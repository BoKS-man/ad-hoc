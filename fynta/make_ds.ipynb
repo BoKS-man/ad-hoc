{
 "cells": [
  {
   "cell_type": "code",
   "execution_count": 5,
   "metadata": {},
   "outputs": [],
   "source": [
    "import pandas as pd\n",
    "import numpy as np\n",
    "import matplotlib.pyplot as plt\n",
    "import pymssql\n",
    "from datetime import datetime, timedelta"
   ]
  },
  {
   "cell_type": "code",
   "execution_count": 2,
   "metadata": {},
   "outputs": [
    {
     "name": "stdout",
     "output_type": "stream",
     "text": [
      "(1000, 2) (1000, 2)\n",
      "   Id  Quantity\n",
      "0   0        52\n",
      "1   1        53\n",
      "   Id  Quantity\n",
      "0   0        57\n",
      "1   1        74\n"
     ]
    },
    {
     "data": {
      "image/png": "[encoded data removed]",
      "text/plain": [
       "<Figure size 640x480 with 1 Axes>"
      ]
     },
     "metadata": {},
     "output_type": "display_data"
    }
   ],
   "source": [
    "task1_t1 = pd.DataFrame([{'Id':id, 'Quantity':np.random.randint(10, 100)} for id in range(1000)])\n",
    "task1_t2 = task1_t1.copy()\n",
    "task1_t2['Quantity'] = task1_t2['Quantity'].apply(lambda q: int(q * np.random.randint(110, 150)/100))\n",
    "print(task1_t1.shape, task1_t2.shape)\n",
    "print(task1_t1.head(2))\n",
    "print(task1_t2.head(2))\n",
    "plt.hist(100 - (task1_t1['Quantity'] / task1_t2['Quantity'] * 100))\n",
    "plt.ylabel('количество записей')\n",
    "plt.xlabel('доля прироста')\n",
    "plt.title('распределение прироста в поле Quantity')\n",
    "plt.show()\n",
    "\n"
   ]
  },
  {
   "cell_type": "code",
   "execution_count": 3,
   "metadata": {},
   "outputs": [
    {
     "name": "stdout",
     "output_type": "stream",
     "text": [
      "task1_t1 processing 1000 rows\n",
      "task1_t2 processing 1000 rows\n"
     ]
    }
   ],
   "source": [
    "with pymssql.connect(server='95.165.31.67:1433',\n",
    "                     user='sa',\n",
    "                     password='Pass1sF@ke',\n",
    "                     database='test') as conn:\n",
    "    with conn.cursor() as cursor:\n",
    "        for t_name, data in zip(['task1_t1', 'task1_t2'], [task1_t1, task1_t2]):\n",
    "            print(t_name, 'processing', len(data), 'rows')\n",
    "            query = f'''insert into dbo.{t_name} (Quantity) values (%d)'''\n",
    "            cursor.executemany(query, list(data['Quantity'].astype(str).values))\n",
    "            conn.commit()"
   ]
  },
  {
   "cell_type": "code",
   "execution_count": 7,
   "metadata": {},
   "outputs": [
    {
     "name": "stdout",
     "output_type": "stream",
     "text": [
      "(1000, 3)\n"
     ]
    },
    {
     "data": {
      "text/html": [
       "<div>\n",
       "<style scoped>\n",
       "    .dataframe tbody tr th:only-of-type {\n",
       "        vertical-align: middle;\n",
       "    }\n",
       "\n",
       "    .dataframe tbody tr th {\n",
       "        vertical-align: top;\n",
       "    }\n",
       "\n",
       "    .dataframe thead th {\n",
       "        text-align: right;\n",
       "    }\n",
       "</style>\n",
       "<table border=\"1\" class=\"dataframe\">\n",
       "  <thead>\n",
       "    <tr style=\"text-align: right;\">\n",
       "      <th></th>\n",
       "      <th>Id</th>\n",
       "      <th>Quantity</th>\n",
       "      <th>Data</th>\n",
       "    </tr>\n",
       "  </thead>\n",
       "  <tbody>\n",
       "    <tr>\n",
       "      <th>0</th>\n",
       "      <td>0</td>\n",
       "      <td>58</td>\n",
       "      <td>2020-01-01</td>\n",
       "    </tr>\n",
       "    <tr>\n",
       "      <th>1</th>\n",
       "      <td>1</td>\n",
       "      <td>76</td>\n",
       "      <td>2020-01-02</td>\n",
       "    </tr>\n",
       "  </tbody>\n",
       "</table>\n",
       "</div>"
      ],
      "text/plain": [
       "   Id  Quantity       Data\n",
       "0   0        58 2020-01-01\n",
       "1   1        76 2020-01-02"
      ]
     },
     "execution_count": 7,
     "metadata": {},
     "output_type": "execute_result"
    }
   ],
   "source": [
    "date_start = datetime(2020, 1, 1)\n",
    "task2_t1 = pd.DataFrame([{'Id':id, 'Quantity':np.random.randint(10, 100), 'Data':date_start + timedelta(days=id)} for id in range(1000)])\n",
    "print(task2_t1.shape)\n",
    "task2_t1.head(2)"
   ]
  },
  {
   "cell_type": "code",
   "execution_count": 18,
   "metadata": {},
   "outputs": [
    {
     "name": "stdout",
     "output_type": "stream",
     "text": [
      "(1000, 3)\n"
     ]
    },
    {
     "data": {
      "text/html": [
       "<div>\n",
       "<style scoped>\n",
       "    .dataframe tbody tr th:only-of-type {\n",
       "        vertical-align: middle;\n",
       "    }\n",
       "\n",
       "    .dataframe tbody tr th {\n",
       "        vertical-align: top;\n",
       "    }\n",
       "\n",
       "    .dataframe thead th {\n",
       "        text-align: right;\n",
       "    }\n",
       "</style>\n",
       "<table border=\"1\" class=\"dataframe\">\n",
       "  <thead>\n",
       "    <tr style=\"text-align: right;\">\n",
       "      <th></th>\n",
       "      <th>Id</th>\n",
       "      <th>Quantity</th>\n",
       "      <th>Data</th>\n",
       "    </tr>\n",
       "  </thead>\n",
       "  <tbody>\n",
       "    <tr>\n",
       "      <th>0</th>\n",
       "      <td>0</td>\n",
       "      <td>35</td>\n",
       "      <td>2020-01-01 00:00:00</td>\n",
       "    </tr>\n",
       "    <tr>\n",
       "      <th>1</th>\n",
       "      <td>1</td>\n",
       "      <td>18</td>\n",
       "      <td>2020-01-01 06:00:00</td>\n",
       "    </tr>\n",
       "  </tbody>\n",
       "</table>\n",
       "</div>"
      ],
      "text/plain": [
       "   Id  Quantity                Data\n",
       "0   0        35 2020-01-01 00:00:00\n",
       "1   1        18 2020-01-01 06:00:00"
      ]
     },
     "execution_count": 18,
     "metadata": {},
     "output_type": "execute_result"
    }
   ],
   "source": [
    "date_start = datetime(2020, 1, 1)\n",
    "dts = []\n",
    "for i in range(1000):\n",
    "    if i > 0:\n",
    "        date_start += timedelta(hours=np.random.randint(1, 12))\n",
    "    dts.append(date_start)\n",
    "task2_t1 = pd.DataFrame([{'Id':id, 'Quantity':np.random.randint(10, 100), 'Data':dts[id]} for id in range(1000)])\n",
    "print(task2_t1.shape)\n",
    "task2_t1.head(2)"
   ]
  },
  {
   "cell_type": "code",
   "execution_count": 19,
   "metadata": {},
   "outputs": [],
   "source": [
    "with pymssql.connect(server='95.165.31.67:1433',\n",
    "                     user='sa',\n",
    "                     password='Pass1sF@ke',\n",
    "                     database='test') as conn:\n",
    "    with conn.cursor() as cursor:\n",
    "        query = f'''insert into dbo.task2_t1_v2 (Quantity, Data) values (%d, %s)'''\n",
    "        cursor.executemany(query, list(map(tuple, task2_t1[['Quantity', 'Data']].astype(str).values)))\n",
    "        conn.commit()"
   ]
  },
  {
   "cell_type": "code",
   "execution_count": 20,
   "metadata": {},
   "outputs": [
    {
     "name": "stdout",
     "output_type": "stream",
     "text": [
      "(1000, 2)\n"
     ]
    },
    {
     "data": {
      "text/html": [
       "<div>\n",
       "<style scoped>\n",
       "    .dataframe tbody tr th:only-of-type {\n",
       "        vertical-align: middle;\n",
       "    }\n",
       "\n",
       "    .dataframe tbody tr th {\n",
       "        vertical-align: top;\n",
       "    }\n",
       "\n",
       "    .dataframe thead th {\n",
       "        text-align: right;\n",
       "    }\n",
       "</style>\n",
       "<table border=\"1\" class=\"dataframe\">\n",
       "  <thead>\n",
       "    <tr style=\"text-align: right;\">\n",
       "      <th></th>\n",
       "      <th>Id</th>\n",
       "      <th>Quantity</th>\n",
       "    </tr>\n",
       "  </thead>\n",
       "  <tbody>\n",
       "    <tr>\n",
       "      <th>0</th>\n",
       "      <td>0</td>\n",
       "      <td>4231</td>\n",
       "    </tr>\n",
       "    <tr>\n",
       "      <th>1</th>\n",
       "      <td>1</td>\n",
       "      <td>4092</td>\n",
       "    </tr>\n",
       "  </tbody>\n",
       "</table>\n",
       "</div>"
      ],
      "text/plain": [
       "   Id  Quantity\n",
       "0   0      4231\n",
       "1   1      4092"
      ]
     },
     "execution_count": 20,
     "metadata": {},
     "output_type": "execute_result"
    }
   ],
   "source": [
    "task3_t1 = pd.DataFrame([{'Id':id, 'Quantity':np.random.randint(10, 10000)} for id in range(1000)])\n",
    "print(task3_t1.shape)\n",
    "task3_t1.head(2)"
   ]
  },
  {
   "cell_type": "code",
   "execution_count": 26,
   "metadata": {},
   "outputs": [],
   "source": [
    "task3_t1.to_csv('data/task3_t1_v2.csv', index=False)"
   ]
  },
  {
   "cell_type": "code",
   "execution_count": 27,
   "metadata": {},
   "outputs": [
    {
     "data": {
      "image/png": "[encoded data removed]",
      "text/plain": [
       "<Figure size 640x480 with 1 Axes>"
      ]
     },
     "metadata": {},
     "output_type": "display_data"
    }
   ],
   "source": [
    "plt.hist(task3_t1['Quantity'].values, bins=100)\n",
    "plt.show()"
   ]
  },
  {
   "cell_type": "code",
   "execution_count": 106,
   "metadata": {},
   "outputs": [],
   "source": [
    "def test_diff(data_old, data_new, index, value):\n",
    "    print(data_old['Quantity'].sum() == data_new['Quantity'].sum())\n",
    "    old_q = data_old[data_old['Id']==index]['Quantity']\n",
    "    new_q = data_new[data_new['Id']==index]['Quantity']\n",
    "    if value > 0:\n",
    "        diff_sum = (old_q/new_q).mean()\n",
    "    else:\n",
    "        diff_sum = (new_q/old_q).mean()\n",
    "    print(1 - diff_sum)\n",
    "\n",
    "def update_q(data, index, value):\n",
    "    new_data = data.copy()\n",
    "    new_data.set_index('Id', drop=True)\n",
    "    new_data.loc[index, 'Quantity'] += value\n",
    "    \n",
    "    new_data.sort_values('Quantity', inplace=True, ascending=False)\n",
    "    new_data['diff'] = .0\n",
    "    n_row = 0\n",
    "    offset = 1 if value < 0 else -1\n",
    "    while value != 0:\n",
    "        i, q, _ = new_data.iloc[n_row].values\n",
    "        i = int(i)\n",
    "        q = int(q)\n",
    "        if i == index:\n",
    "            continue\n",
    "        new_q = int(q + offset)\n",
    "        diff = 1 - (q / new_q if value < 0 else new_q / q)\n",
    "        if diff <= new_data.iloc[0, -1] or n_row==0:\n",
    "            new_data.loc[i, 'diff'] = diff\n",
    "            new_data.loc[i, 'Quantity'] = new_q\n",
    "            value += offset\n",
    "            n_row += 1\n",
    "        else:\n",
    "            n_row = 0\n",
    "    new_data.sort_index(ascending=True, inplace=True)\n",
    "    new_data.drop(columns=['diff'], inplace=True)\n",
    "    new_data.reset_index(drop=False, inplace=True)\n",
    "        \n",
    "    return new_data"
   ]
  },
  {
   "cell_type": "code",
   "execution_count": 109,
   "metadata": {},
   "outputs": [
    {
     "name": "stdout",
     "output_type": "stream",
     "text": [
      "True\n",
      "0.038627380524613675\n"
     ]
    }
   ],
   "source": [
    "index = 13\n",
    "value = 215\n",
    "test_diff(task3_t1, update_q(task3_t1, index, value), index, value)"
   ]
  },
  {
   "cell_type": "code",
   "execution_count": 94,
   "metadata": {},
   "outputs": [
    {
     "name": "stdout",
     "output_type": "stream",
     "text": [
      "4895788\n"
     ]
    }
   ],
   "source": [
    "index = 13\n",
    "value = 215\n",
    "new_data = task3_t1.copy()\n",
    "old_q_sum = new_data['Quantity'].sum()\n",
    "new_data.set_index('Id', drop=True)\n",
    "new_data.loc[index, 'Quantity'] += value"
   ]
  },
  {
   "cell_type": "code",
   "execution_count": 95,
   "metadata": {},
   "outputs": [],
   "source": [
    "new_data.sort_values('Quantity', inplace=True, ascending=False)\n",
    "new_data['diff'] = .0\n",
    "n_row = 0\n",
    "offset = 1 if value < 0 else -1\n",
    "while value != 0:\n",
    "    i, q, _ = new_data.iloc[n_row].values\n",
    "    i = int(i)\n",
    "    q = int(q)\n",
    "    if i == index:\n",
    "        continue\n",
    "    new_q = int(q + offset)\n",
    "    diff = 1 - (q / new_q if value < 0 else new_q / q)\n",
    "    if diff <= new_data.iloc[0, -1] or n_row==0:\n",
    "        new_data.loc[i, 'diff'] = diff\n",
    "        new_data.loc[i, 'Quantity'] = new_q\n",
    "        value += offset\n",
    "        n_row += 1\n",
    "    else:\n",
    "        n_row = 0\n",
    "new_data.sort_index(ascending=True, inplace=True)"
   ]
  },
  {
   "cell_type": "code",
   "execution_count": 93,
   "metadata": {},
   "outputs": [
    {
     "data": {
      "text/plain": [
       "4895788"
      ]
     },
     "execution_count": 93,
     "metadata": {},
     "output_type": "execute_result"
    }
   ],
   "source": [
    "new_data['Quantity'].sum()"
   ]
  },
  {
   "cell_type": "code",
   "execution_count": 80,
   "metadata": {},
   "outputs": [
    {
     "data": {
      "text/html": [
       "<div>\n",
       "<style scoped>\n",
       "    .dataframe tbody tr th:only-of-type {\n",
       "        vertical-align: middle;\n",
       "    }\n",
       "\n",
       "    .dataframe tbody tr th {\n",
       "        vertical-align: top;\n",
       "    }\n",
       "\n",
       "    .dataframe thead th {\n",
       "        text-align: right;\n",
       "    }\n",
       "</style>\n",
       "<table border=\"1\" class=\"dataframe\">\n",
       "  <thead>\n",
       "    <tr style=\"text-align: right;\">\n",
       "      <th></th>\n",
       "      <th>Id</th>\n",
       "      <th>Quantity</th>\n",
       "      <th>diff</th>\n",
       "    </tr>\n",
       "  </thead>\n",
       "  <tbody>\n",
       "    <tr>\n",
       "      <th>0</th>\n",
       "      <td>0</td>\n",
       "      <td>4231</td>\n",
       "      <td>0.0</td>\n",
       "    </tr>\n",
       "    <tr>\n",
       "      <th>1</th>\n",
       "      <td>1</td>\n",
       "      <td>4092</td>\n",
       "      <td>0.0</td>\n",
       "    </tr>\n",
       "    <tr>\n",
       "      <th>2</th>\n",
       "      <td>2</td>\n",
       "      <td>5964</td>\n",
       "      <td>0.0</td>\n",
       "    </tr>\n",
       "    <tr>\n",
       "      <th>3</th>\n",
       "      <td>3</td>\n",
       "      <td>4403</td>\n",
       "      <td>0.0</td>\n",
       "    </tr>\n",
       "    <tr>\n",
       "      <th>4</th>\n",
       "      <td>4</td>\n",
       "      <td>5828</td>\n",
       "      <td>0.0</td>\n",
       "    </tr>\n",
       "    <tr>\n",
       "      <th>...</th>\n",
       "      <td>...</td>\n",
       "      <td>...</td>\n",
       "      <td>...</td>\n",
       "    </tr>\n",
       "    <tr>\n",
       "      <th>995</th>\n",
       "      <td>995</td>\n",
       "      <td>9094</td>\n",
       "      <td>0.0</td>\n",
       "    </tr>\n",
       "    <tr>\n",
       "      <th>996</th>\n",
       "      <td>996</td>\n",
       "      <td>6923</td>\n",
       "      <td>0.0</td>\n",
       "    </tr>\n",
       "    <tr>\n",
       "      <th>997</th>\n",
       "      <td>997</td>\n",
       "      <td>4385</td>\n",
       "      <td>0.0</td>\n",
       "    </tr>\n",
       "    <tr>\n",
       "      <th>998</th>\n",
       "      <td>998</td>\n",
       "      <td>8099</td>\n",
       "      <td>0.0</td>\n",
       "    </tr>\n",
       "    <tr>\n",
       "      <th>999</th>\n",
       "      <td>999</td>\n",
       "      <td>5572</td>\n",
       "      <td>0.0</td>\n",
       "    </tr>\n",
       "  </tbody>\n",
       "</table>\n",
       "<p>1000 rows × 3 columns</p>\n",
       "</div>"
      ],
      "text/plain": [
       "      Id  Quantity  diff\n",
       "0      0      4231   0.0\n",
       "1      1      4092   0.0\n",
       "2      2      5964   0.0\n",
       "3      3      4403   0.0\n",
       "4      4      5828   0.0\n",
       "..   ...       ...   ...\n",
       "995  995      9094   0.0\n",
       "996  996      6923   0.0\n",
       "997  997      4385   0.0\n",
       "998  998      8099   0.0\n",
       "999  999      5572   0.0\n",
       "\n",
       "[1000 rows x 3 columns]"
      ]
     },
     "execution_count": 80,
     "metadata": {},
     "output_type": "execute_result"
    }
   ],
   "source": [
    "new_data"
   ]
  },
  {
   "cell_type": "code",
   "execution_count": 51,
   "metadata": {},
   "outputs": [
    {
     "name": "stdout",
     "output_type": "stream",
     "text": [
      "False\n",
      "0.0\n"
     ]
    }
   ],
   "source": []
  },
  {
   "cell_type": "code",
   "execution_count": 25,
   "metadata": {},
   "outputs": [],
   "source": [
    "with pymssql.connect(server='95.165.31.67:1433',\n",
    "                     user='sa',\n",
    "                     password='Pass1sF@ke',\n",
    "                     database='test') as conn:\n",
    "    with conn.cursor() as cursor:\n",
    "        query = f'''insert into dbo.task3_t1_v2 (Id, Quantity) values (%d, %d)'''\n",
    "        cursor.executemany(query, list(map(tuple, task3_t1.astype(str).values)))\n",
    "        conn.commit()"
   ]
  },
  {
   "cell_type": "code",
   "execution_count": null,
   "metadata": {},
   "outputs": [],
   "source": []
  }
 ],
 "metadata": {
  "kernelspec": {
   "display_name": "dev",
   "language": "python",
   "name": "python3"
  },
  "language_info": {
   "codemirror_mode": {
    "name": "ipython",
    "version": 3
   },
   "file_extension": ".py",
   "mimetype": "text/x-python",
   "name": "python",
   "nbconvert_exporter": "python",
   "pygments_lexer": "ipython3",
   "version": "3.10.12"
  }
 },
 "nbformat": 4,
 "nbformat_minor": 2
}
